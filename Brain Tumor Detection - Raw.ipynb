{
 "cells": [
  {
   "cell_type": "code",
   "execution_count": 1,
   "metadata": {
    "scrolled": true
   },
   "outputs": [],
   "source": [
    "import tensorflow as tf\n",
    "from keras.preprocessing.image import ImageDataGenerator"
   ]
  },
  {
   "cell_type": "markdown",
   "metadata": {},
   "source": [
    "### Preprocessing The Training Set"
   ]
  },
  {
   "cell_type": "code",
   "execution_count": 2,
   "metadata": {},
   "outputs": [
    {
     "name": "stdout",
     "output_type": "stream",
     "text": [
      "Found 242 images belonging to 2 classes.\n"
     ]
    }
   ],
   "source": [
    "#To prevent overfitting\n",
    "train_datagen = ImageDataGenerator(\n",
    "        rescale=1./255,\n",
    "        shear_range=0.2,\n",
    "        zoom_range=0.2,\n",
    "        horizontal_flip=True)\n",
    "\n",
    "training_set = train_datagen.flow_from_directory(\n",
    "        'dataset/train',\n",
    "        target_size=(64, 64),\n",
    "        batch_size=32,\n",
    "        class_mode='binary')"
   ]
  },
  {
   "cell_type": "code",
   "execution_count": 3,
   "metadata": {},
   "outputs": [
    {
     "data": {
      "text/plain": [
       "{'no': 0, 'yes': 1}"
      ]
     },
     "execution_count": 3,
     "metadata": {},
     "output_type": "execute_result"
    }
   ],
   "source": [
    "training_set.class_indices"
   ]
  },
  {
   "cell_type": "markdown",
   "metadata": {},
   "source": [
    "### Preprocessing The Test Set"
   ]
  },
  {
   "cell_type": "code",
   "execution_count": 4,
   "metadata": {},
   "outputs": [
    {
     "name": "stdout",
     "output_type": "stream",
     "text": [
      "Found 10 images belonging to 2 classes.\n"
     ]
    }
   ],
   "source": [
    "test_datagen = ImageDataGenerator(rescale=1./255)\n",
    "\n",
    "test_set = test_datagen.flow_from_directory(\n",
    "        'dataset/test',\n",
    "        target_size=(64, 64),\n",
    "        batch_size=32,\n",
    "        class_mode='binary')"
   ]
  },
  {
   "cell_type": "markdown",
   "metadata": {},
   "source": [
    "### Building the CNN"
   ]
  },
  {
   "cell_type": "code",
   "execution_count": 5,
   "metadata": {},
   "outputs": [],
   "source": [
    "cnn = tf.keras.models.Sequential()"
   ]
  },
  {
   "cell_type": "code",
   "execution_count": 6,
   "metadata": {},
   "outputs": [],
   "source": [
    "#Convolution\n",
    "cnn.add(tf.keras.layers.Conv2D(filters=32, kernel_size=3, activation='relu', input_shape= [64, 64, 3])) #Number is 1 because the dataset is greyscale"
   ]
  },
  {
   "cell_type": "code",
   "execution_count": 7,
   "metadata": {},
   "outputs": [],
   "source": [
    "#Pooling\n",
    "cnn.add(tf.keras.layers.MaxPool2D(pool_size=2, strides=2))"
   ]
  },
  {
   "cell_type": "code",
   "execution_count": 8,
   "metadata": {},
   "outputs": [],
   "source": [
    "cnn.add(tf.keras.layers.Conv2D(filters=32, kernel_size=3, activation='relu'))\n",
    "cnn.add(tf.keras.layers.MaxPool2D(pool_size=2, strides=2))"
   ]
  },
  {
   "cell_type": "code",
   "execution_count": 9,
   "metadata": {},
   "outputs": [],
   "source": [
    "#Flattening\n",
    "cnn.add(tf.keras.layers.Flatten())"
   ]
  },
  {
   "cell_type": "markdown",
   "metadata": {},
   "source": [
    "### Fully Connected Neural Network "
   ]
  },
  {
   "cell_type": "code",
   "execution_count": 10,
   "metadata": {},
   "outputs": [],
   "source": [
    "cnn.add(tf.keras.layers.Dense(units=128, activation='relu'))"
   ]
  },
  {
   "cell_type": "code",
   "execution_count": 11,
   "metadata": {},
   "outputs": [],
   "source": [
    "cnn.add(tf.keras.layers.Dense(units=1, activation='sigmoid'))"
   ]
  },
  {
   "cell_type": "markdown",
   "metadata": {},
   "source": [
    "### Training the Model "
   ]
  },
  {
   "cell_type": "code",
   "execution_count": 12,
   "metadata": {},
   "outputs": [],
   "source": [
    "#Compiling the CNN\n",
    "cnn.compile(optimizer='adam', loss='binary_crossentropy', metrics=['accuracy'])"
   ]
  },
  {
   "cell_type": "code",
   "execution_count": 13,
   "metadata": {},
   "outputs": [
    {
     "name": "stdout",
     "output_type": "stream",
     "text": [
      "Epoch 1/50\n",
      "8/8 [==============================] - 2s 208ms/step - loss: 0.6119 - accuracy: 0.6570 - val_loss: 0.5267 - val_accuracy: 0.8000\n",
      "Epoch 2/50\n",
      "8/8 [==============================] - 2s 188ms/step - loss: 0.5834 - accuracy: 0.7025 - val_loss: 0.3420 - val_accuracy: 0.9000\n",
      "Epoch 3/50\n",
      "8/8 [==============================] - 1s 180ms/step - loss: 0.5474 - accuracy: 0.7521 - val_loss: 0.3581 - val_accuracy: 0.8000\n",
      "Epoch 4/50\n",
      "8/8 [==============================] - 1s 178ms/step - loss: 0.5594 - accuracy: 0.7190 - val_loss: 0.3206 - val_accuracy: 0.9000\n",
      "Epoch 5/50\n",
      "8/8 [==============================] - 2s 192ms/step - loss: 0.5475 - accuracy: 0.7190 - val_loss: 0.3578 - val_accuracy: 0.8000\n",
      "Epoch 6/50\n",
      "8/8 [==============================] - 1s 179ms/step - loss: 0.5398 - accuracy: 0.7479 - val_loss: 0.3145 - val_accuracy: 0.8000\n",
      "Epoch 7/50\n",
      "8/8 [==============================] - 2s 188ms/step - loss: 0.5107 - accuracy: 0.7521 - val_loss: 0.2735 - val_accuracy: 0.8000\n",
      "Epoch 8/50\n",
      "8/8 [==============================] - 1s 177ms/step - loss: 0.4720 - accuracy: 0.7851 - val_loss: 0.2182 - val_accuracy: 1.0000\n",
      "Epoch 9/50\n",
      "8/8 [==============================] - 2s 227ms/step - loss: 0.4557 - accuracy: 0.8017 - val_loss: 0.2524 - val_accuracy: 0.9000\n",
      "Epoch 10/50\n",
      "8/8 [==============================] - 2s 225ms/step - loss: 0.4403 - accuracy: 0.8058 - val_loss: 0.2133 - val_accuracy: 1.0000\n",
      "Epoch 11/50\n",
      "8/8 [==============================] - 2s 202ms/step - loss: 0.4297 - accuracy: 0.7851 - val_loss: 0.2055 - val_accuracy: 0.9000\n",
      "Epoch 12/50\n",
      "8/8 [==============================] - 2s 203ms/step - loss: 0.4362 - accuracy: 0.8182 - val_loss: 0.3144 - val_accuracy: 0.9000\n",
      "Epoch 13/50\n",
      "8/8 [==============================] - 2s 198ms/step - loss: 0.4546 - accuracy: 0.7934 - val_loss: 0.3098 - val_accuracy: 0.9000\n",
      "Epoch 14/50\n",
      "8/8 [==============================] - 2s 193ms/step - loss: 0.4190 - accuracy: 0.8223 - val_loss: 0.1886 - val_accuracy: 1.0000\n",
      "Epoch 15/50\n",
      "8/8 [==============================] - 1s 157ms/step - loss: 0.4089 - accuracy: 0.8182 - val_loss: 0.2329 - val_accuracy: 0.9000\n",
      "Epoch 16/50\n",
      "8/8 [==============================] - 1s 171ms/step - loss: 0.4021 - accuracy: 0.8388 - val_loss: 0.2477 - val_accuracy: 0.9000\n",
      "Epoch 17/50\n",
      "8/8 [==============================] - 2s 192ms/step - loss: 0.3538 - accuracy: 0.8430 - val_loss: 0.1782 - val_accuracy: 0.9000\n",
      "Epoch 18/50\n",
      "8/8 [==============================] - 2s 242ms/step - loss: 0.3024 - accuracy: 0.8760 - val_loss: 0.1497 - val_accuracy: 1.0000\n",
      "Epoch 19/50\n",
      "8/8 [==============================] - 2s 241ms/step - loss: 0.3942 - accuracy: 0.7893 - val_loss: 0.2513 - val_accuracy: 0.9000\n",
      "Epoch 20/50\n",
      "8/8 [==============================] - 1s 183ms/step - loss: 0.3469 - accuracy: 0.8678 - val_loss: 0.2880 - val_accuracy: 0.9000\n",
      "Epoch 21/50\n",
      "8/8 [==============================] - 1s 170ms/step - loss: 0.3405 - accuracy: 0.8843 - val_loss: 0.2749 - val_accuracy: 0.9000\n",
      "Epoch 22/50\n",
      "8/8 [==============================] - 1s 179ms/step - loss: 0.4153 - accuracy: 0.8058 - val_loss: 0.3485 - val_accuracy: 0.9000\n",
      "Epoch 23/50\n",
      "8/8 [==============================] - 1s 181ms/step - loss: 0.3184 - accuracy: 0.8760 - val_loss: 0.2681 - val_accuracy: 0.9000\n",
      "Epoch 24/50\n",
      "8/8 [==============================] - 1s 181ms/step - loss: 0.3290 - accuracy: 0.8760 - val_loss: 0.3137 - val_accuracy: 0.8000\n",
      "Epoch 25/50\n",
      "8/8 [==============================] - 1s 183ms/step - loss: 0.3464 - accuracy: 0.8554 - val_loss: 0.3534 - val_accuracy: 0.8000\n",
      "Epoch 26/50\n",
      "8/8 [==============================] - 2s 188ms/step - loss: 0.2994 - accuracy: 0.8884 - val_loss: 0.2634 - val_accuracy: 0.9000\n",
      "Epoch 27/50\n",
      "8/8 [==============================] - 1s 178ms/step - loss: 0.2915 - accuracy: 0.8802 - val_loss: 0.3220 - val_accuracy: 0.8000\n",
      "Epoch 28/50\n",
      "8/8 [==============================] - 1s 166ms/step - loss: 0.2854 - accuracy: 0.8802 - val_loss: 0.3343 - val_accuracy: 0.9000\n",
      "Epoch 29/50\n",
      "8/8 [==============================] - 1s 178ms/step - loss: 0.2947 - accuracy: 0.8719 - val_loss: 0.1767 - val_accuracy: 0.9000\n",
      "Epoch 30/50\n",
      "8/8 [==============================] - 1s 158ms/step - loss: 0.3093 - accuracy: 0.8760 - val_loss: 0.2050 - val_accuracy: 0.9000\n",
      "Epoch 31/50\n",
      "8/8 [==============================] - 1s 167ms/step - loss: 0.2861 - accuracy: 0.8884 - val_loss: 0.3489 - val_accuracy: 0.8000\n",
      "Epoch 32/50\n",
      "8/8 [==============================] - 1s 162ms/step - loss: 0.2684 - accuracy: 0.9050 - val_loss: 0.2134 - val_accuracy: 0.9000\n",
      "Epoch 33/50\n",
      "8/8 [==============================] - 1s 182ms/step - loss: 0.3296 - accuracy: 0.8471 - val_loss: 0.1640 - val_accuracy: 0.9000\n",
      "Epoch 34/50\n",
      "8/8 [==============================] - 1s 169ms/step - loss: 0.2617 - accuracy: 0.9050 - val_loss: 0.2216 - val_accuracy: 0.9000\n",
      "Epoch 35/50\n",
      "8/8 [==============================] - 2s 228ms/step - loss: 0.2584 - accuracy: 0.8843 - val_loss: 0.3495 - val_accuracy: 0.9000\n",
      "Epoch 36/50\n",
      "8/8 [==============================] - 2s 202ms/step - loss: 0.2450 - accuracy: 0.9008 - val_loss: 0.1701 - val_accuracy: 0.9000\n",
      "Epoch 37/50\n",
      "8/8 [==============================] - 2s 199ms/step - loss: 0.2608 - accuracy: 0.8884 - val_loss: 0.2821 - val_accuracy: 0.9000\n",
      "Epoch 38/50\n",
      "8/8 [==============================] - 2s 199ms/step - loss: 0.2306 - accuracy: 0.9256 - val_loss: 0.1851 - val_accuracy: 1.0000\n",
      "Epoch 39/50\n",
      "8/8 [==============================] - 1s 173ms/step - loss: 0.2130 - accuracy: 0.9091 - val_loss: 0.1380 - val_accuracy: 0.9000\n",
      "Epoch 40/50\n",
      "8/8 [==============================] - 1s 169ms/step - loss: 0.1800 - accuracy: 0.9421 - val_loss: 0.3152 - val_accuracy: 0.9000\n",
      "Epoch 41/50\n",
      "8/8 [==============================] - 1s 170ms/step - loss: 0.2386 - accuracy: 0.9008 - val_loss: 0.3305 - val_accuracy: 0.9000\n",
      "Epoch 42/50\n",
      "8/8 [==============================] - 1s 176ms/step - loss: 0.2472 - accuracy: 0.9050 - val_loss: 0.1876 - val_accuracy: 0.9000\n",
      "Epoch 43/50\n",
      "8/8 [==============================] - 1s 178ms/step - loss: 0.1973 - accuracy: 0.9339 - val_loss: 0.1630 - val_accuracy: 0.9000\n",
      "Epoch 44/50\n",
      "8/8 [==============================] - 1s 176ms/step - loss: 0.1669 - accuracy: 0.9463 - val_loss: 0.1536 - val_accuracy: 0.9000\n",
      "Epoch 45/50\n",
      "8/8 [==============================] - 1s 174ms/step - loss: 0.1992 - accuracy: 0.9174 - val_loss: 0.1510 - val_accuracy: 0.9000\n",
      "Epoch 46/50\n",
      "8/8 [==============================] - 1s 178ms/step - loss: 0.1631 - accuracy: 0.9339 - val_loss: 0.1697 - val_accuracy: 0.9000\n",
      "Epoch 47/50\n",
      "8/8 [==============================] - 2s 208ms/step - loss: 0.1912 - accuracy: 0.9174 - val_loss: 0.1612 - val_accuracy: 0.9000\n",
      "Epoch 48/50\n",
      "8/8 [==============================] - 1s 174ms/step - loss: 0.1370 - accuracy: 0.9463 - val_loss: 0.0779 - val_accuracy: 1.0000\n",
      "Epoch 49/50\n",
      "8/8 [==============================] - 1s 170ms/step - loss: 0.1803 - accuracy: 0.9339 - val_loss: 0.1544 - val_accuracy: 0.9000\n",
      "Epoch 50/50\n",
      "8/8 [==============================] - 1s 173ms/step - loss: 0.1594 - accuracy: 0.9463 - val_loss: 0.1174 - val_accuracy: 0.9000\n"
     ]
    },
    {
     "data": {
      "text/plain": [
       "<tensorflow.python.keras.callbacks.History at 0x1718aa20148>"
      ]
     },
     "execution_count": 13,
     "metadata": {},
     "output_type": "execute_result"
    }
   ],
   "source": [
    "cnn.fit(x = training_set, validation_data = test_set, epochs = 50)"
   ]
  },
  {
   "cell_type": "code",
   "execution_count": 14,
   "metadata": {},
   "outputs": [
    {
     "name": "stdout",
     "output_type": "stream",
     "text": [
      "negative\n"
     ]
    }
   ],
   "source": [
    "import numpy as np\n",
    "from keras.preprocessing import image\n",
    "\n",
    "test_image = image.load_img('dataset/sample.jpg', target_size=(64, 64))\n",
    "test_image = image.img_to_array(test_image)\n",
    "test_image = np.expand_dims(test_image, axis= 0)\n",
    "\n",
    "result = cnn.predict(test_image)\n",
    "\n",
    "if result[0][0] == 1:\n",
    "    prediction = \"positive\"\n",
    "else:\n",
    "    prediction = \"negative\"\n",
    "    \n",
    "print(prediction)"
   ]
  }
 ],
 "metadata": {
  "kernelspec": {
   "display_name": "Python 3",
   "language": "python",
   "name": "python3"
  },
  "language_info": {
   "codemirror_mode": {
    "name": "ipython",
    "version": 3
   },
   "file_extension": ".py",
   "mimetype": "text/x-python",
   "name": "python",
   "nbconvert_exporter": "python",
   "pygments_lexer": "ipython3",
   "version": "3.7.6"
  }
 },
 "nbformat": 4,
 "nbformat_minor": 4
}
