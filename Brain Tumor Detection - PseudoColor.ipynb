{
 "cells": [
  {
   "cell_type": "code",
   "execution_count": 1,
   "metadata": {
    "scrolled": true
   },
   "outputs": [],
   "source": [
    "import tensorflow as tf\n",
    "from keras.preprocessing.image import ImageDataGenerator"
   ]
  },
  {
   "cell_type": "markdown",
   "metadata": {},
   "source": [
    "### Preprocessing The Training Set"
   ]
  },
  {
   "cell_type": "code",
   "execution_count": 16,
   "metadata": {},
   "outputs": [
    {
     "name": "stdout",
     "output_type": "stream",
     "text": [
      "Found 242 images belonging to 2 classes.\n"
     ]
    }
   ],
   "source": [
    "#To prevent overfitting\n",
    "train_datagen = ImageDataGenerator(\n",
    "        rescale=1./255,\n",
    "        shear_range=0.2,\n",
    "        zoom_range=0.2,\n",
    "        horizontal_flip=True)\n",
    "\n",
    "training_set = train_datagen.flow_from_directory(\n",
    "        'dataset_transformed/train',\n",
    "        target_size=(64, 64),\n",
    "        batch_size=32,\n",
    "        class_mode='binary')"
   ]
  },
  {
   "cell_type": "code",
   "execution_count": 3,
   "metadata": {},
   "outputs": [
    {
     "data": {
      "text/plain": [
       "{'no': 0, 'yes': 1}"
      ]
     },
     "execution_count": 3,
     "metadata": {},
     "output_type": "execute_result"
    }
   ],
   "source": [
    "training_set.class_indices"
   ]
  },
  {
   "cell_type": "markdown",
   "metadata": {},
   "source": [
    "### Preprocessing The Test Set"
   ]
  },
  {
   "cell_type": "code",
   "execution_count": 4,
   "metadata": {},
   "outputs": [
    {
     "name": "stdout",
     "output_type": "stream",
     "text": [
      "Found 10 images belonging to 2 classes.\n"
     ]
    }
   ],
   "source": [
    "test_datagen = ImageDataGenerator(rescale=1./255)\n",
    "\n",
    "test_set = test_datagen.flow_from_directory(\n",
    "        'dataset_transformed/test',\n",
    "        target_size=(64, 64),\n",
    "        batch_size=32,\n",
    "        class_mode='binary')"
   ]
  },
  {
   "cell_type": "markdown",
   "metadata": {},
   "source": [
    "### Building the CNN"
   ]
  },
  {
   "cell_type": "code",
   "execution_count": 5,
   "metadata": {},
   "outputs": [],
   "source": [
    "cnn = tf.keras.models.Sequential()"
   ]
  },
  {
   "cell_type": "code",
   "execution_count": 6,
   "metadata": {},
   "outputs": [],
   "source": [
    "#Convolution\n",
    "cnn.add(tf.keras.layers.Conv2D(filters=32, kernel_size=3, activation='relu', input_shape= [64, 64, 3])) #Number is 1 because the dataset is greyscale"
   ]
  },
  {
   "cell_type": "code",
   "execution_count": 7,
   "metadata": {},
   "outputs": [],
   "source": [
    "#Pooling\n",
    "cnn.add(tf.keras.layers.MaxPool2D(pool_size=2, strides=2))"
   ]
  },
  {
   "cell_type": "code",
   "execution_count": 8,
   "metadata": {},
   "outputs": [],
   "source": [
    "cnn.add(tf.keras.layers.Conv2D(filters=32, kernel_size=3, activation='relu'))\n",
    "cnn.add(tf.keras.layers.MaxPool2D(pool_size=2, strides=2))"
   ]
  },
  {
   "cell_type": "code",
   "execution_count": 9,
   "metadata": {},
   "outputs": [],
   "source": [
    "#Flattening\n",
    "cnn.add(tf.keras.layers.Flatten())"
   ]
  },
  {
   "cell_type": "markdown",
   "metadata": {},
   "source": [
    "### Fully Connected Neural Network "
   ]
  },
  {
   "cell_type": "code",
   "execution_count": 10,
   "metadata": {},
   "outputs": [],
   "source": [
    "cnn.add(tf.keras.layers.Dense(units=128, activation='relu'))"
   ]
  },
  {
   "cell_type": "code",
   "execution_count": 11,
   "metadata": {},
   "outputs": [],
   "source": [
    "cnn.add(tf.keras.layers.Dense(units=1, activation='sigmoid'))"
   ]
  },
  {
   "cell_type": "markdown",
   "metadata": {},
   "source": [
    "### Training the Model "
   ]
  },
  {
   "cell_type": "code",
   "execution_count": 12,
   "metadata": {},
   "outputs": [],
   "source": [
    "#Compiling the CNN\n",
    "cnn.compile(optimizer='adam', loss='binary_crossentropy', metrics=['accuracy'])"
   ]
  },
  {
   "cell_type": "code",
   "execution_count": 13,
   "metadata": {},
   "outputs": [
    {
     "name": "stdout",
     "output_type": "stream",
     "text": [
      "Epoch 1/50\n",
      "8/8 [==============================] - 2s 244ms/step - loss: 0.7363 - accuracy: 0.5207 - val_loss: 0.6721 - val_accuracy: 0.5000\n",
      "Epoch 2/50\n",
      "8/8 [==============================] - 2s 197ms/step - loss: 0.6422 - accuracy: 0.6198 - val_loss: 0.6895 - val_accuracy: 0.5000\n",
      "Epoch 3/50\n",
      "8/8 [==============================] - 2s 191ms/step - loss: 0.5984 - accuracy: 0.6198 - val_loss: 0.6185 - val_accuracy: 0.5000\n",
      "Epoch 4/50\n",
      "8/8 [==============================] - 2s 215ms/step - loss: 0.5624 - accuracy: 0.6901 - val_loss: 0.4081 - val_accuracy: 0.8000\n",
      "Epoch 5/50\n",
      "8/8 [==============================] - 2s 192ms/step - loss: 0.5389 - accuracy: 0.7521 - val_loss: 0.3597 - val_accuracy: 0.8000\n",
      "Epoch 6/50\n",
      "8/8 [==============================] - 2s 199ms/step - loss: 0.5081 - accuracy: 0.7603 - val_loss: 0.4117 - val_accuracy: 0.8000\n",
      "Epoch 7/50\n",
      "8/8 [==============================] - 2s 199ms/step - loss: 0.4832 - accuracy: 0.7975 - val_loss: 0.3320 - val_accuracy: 0.8000\n",
      "Epoch 8/50\n",
      "8/8 [==============================] - 2s 206ms/step - loss: 0.5273 - accuracy: 0.7479 - val_loss: 0.2825 - val_accuracy: 1.0000\n",
      "Epoch 9/50\n",
      "8/8 [==============================] - 2s 207ms/step - loss: 0.4976 - accuracy: 0.7686 - val_loss: 0.4017 - val_accuracy: 0.8000\n",
      "Epoch 10/50\n",
      "8/8 [==============================] - 2s 214ms/step - loss: 0.4893 - accuracy: 0.7479 - val_loss: 0.3883 - val_accuracy: 0.8000\n",
      "Epoch 11/50\n",
      "8/8 [==============================] - 2s 198ms/step - loss: 0.4608 - accuracy: 0.7934 - val_loss: 0.3876 - val_accuracy: 0.8000\n",
      "Epoch 12/50\n",
      "8/8 [==============================] - 2s 200ms/step - loss: 0.4284 - accuracy: 0.7893 - val_loss: 0.3698 - val_accuracy: 0.8000\n",
      "Epoch 13/50\n",
      "8/8 [==============================] - 2s 201ms/step - loss: 0.4232 - accuracy: 0.7893 - val_loss: 0.3767 - val_accuracy: 0.9000\n",
      "Epoch 14/50\n",
      "8/8 [==============================] - 2s 196ms/step - loss: 0.3635 - accuracy: 0.8306 - val_loss: 0.3828 - val_accuracy: 0.9000\n",
      "Epoch 15/50\n",
      "8/8 [==============================] - 2s 213ms/step - loss: 0.3375 - accuracy: 0.8512 - val_loss: 0.6160 - val_accuracy: 0.8000\n",
      "Epoch 16/50\n",
      "8/8 [==============================] - 2s 210ms/step - loss: 0.3565 - accuracy: 0.8306 - val_loss: 0.3354 - val_accuracy: 0.9000\n",
      "Epoch 17/50\n",
      "8/8 [==============================] - 2s 200ms/step - loss: 0.3201 - accuracy: 0.8595 - val_loss: 0.1612 - val_accuracy: 1.0000\n",
      "Epoch 18/50\n",
      "8/8 [==============================] - 2s 193ms/step - loss: 0.3129 - accuracy: 0.8636 - val_loss: 0.1843 - val_accuracy: 1.0000\n",
      "Epoch 19/50\n",
      "8/8 [==============================] - 2s 202ms/step - loss: 0.3049 - accuracy: 0.8843 - val_loss: 0.4807 - val_accuracy: 0.9000\n",
      "Epoch 20/50\n",
      "8/8 [==============================] - 2s 215ms/step - loss: 0.2967 - accuracy: 0.8678 - val_loss: 0.5532 - val_accuracy: 0.9000\n",
      "Epoch 21/50\n",
      "8/8 [==============================] - 2s 194ms/step - loss: 0.2739 - accuracy: 0.9008 - val_loss: 0.4342 - val_accuracy: 0.9000\n",
      "Epoch 22/50\n",
      "8/8 [==============================] - 2s 199ms/step - loss: 0.2312 - accuracy: 0.9215 - val_loss: 0.5436 - val_accuracy: 0.9000\n",
      "Epoch 23/50\n",
      "8/8 [==============================] - 2s 196ms/step - loss: 0.1985 - accuracy: 0.9174 - val_loss: 0.2876 - val_accuracy: 0.9000\n",
      "Epoch 24/50\n",
      "8/8 [==============================] - 2s 215ms/step - loss: 0.2208 - accuracy: 0.9091 - val_loss: 0.5933 - val_accuracy: 0.8000\n",
      "Epoch 25/50\n",
      "8/8 [==============================] - 2s 203ms/step - loss: 0.1779 - accuracy: 0.9174 - val_loss: 0.1860 - val_accuracy: 0.9000\n",
      "Epoch 26/50\n",
      "8/8 [==============================] - 2s 198ms/step - loss: 0.2038 - accuracy: 0.9091 - val_loss: 0.1524 - val_accuracy: 0.9000\n",
      "Epoch 27/50\n",
      "8/8 [==============================] - 2s 199ms/step - loss: 0.2210 - accuracy: 0.9132 - val_loss: 0.1763 - val_accuracy: 0.9000\n",
      "Epoch 28/50\n",
      "8/8 [==============================] - 2s 232ms/step - loss: 0.2144 - accuracy: 0.9091 - val_loss: 0.3623 - val_accuracy: 0.7000\n",
      "Epoch 29/50\n",
      "8/8 [==============================] - 2s 195ms/step - loss: 0.2616 - accuracy: 0.8802 - val_loss: 0.1531 - val_accuracy: 1.0000\n",
      "Epoch 30/50\n",
      "8/8 [==============================] - 2s 208ms/step - loss: 0.1928 - accuracy: 0.9298 - val_loss: 0.2241 - val_accuracy: 0.8000\n",
      "Epoch 31/50\n",
      "8/8 [==============================] - 2s 204ms/step - loss: 0.1634 - accuracy: 0.9545 - val_loss: 0.0812 - val_accuracy: 1.0000\n",
      "Epoch 32/50\n",
      "8/8 [==============================] - 2s 217ms/step - loss: 0.1452 - accuracy: 0.9504 - val_loss: 0.0758 - val_accuracy: 1.0000\n",
      "Epoch 33/50\n",
      "8/8 [==============================] - 2s 209ms/step - loss: 0.1411 - accuracy: 0.9545 - val_loss: 0.0455 - val_accuracy: 1.0000\n",
      "Epoch 34/50\n",
      "8/8 [==============================] - 2s 196ms/step - loss: 0.1437 - accuracy: 0.9504 - val_loss: 0.0573 - val_accuracy: 1.0000\n",
      "Epoch 35/50\n",
      "8/8 [==============================] - 2s 222ms/step - loss: 0.1234 - accuracy: 0.9628 - val_loss: 0.2152 - val_accuracy: 0.9000\n",
      "Epoch 36/50\n",
      "8/8 [==============================] - 2s 201ms/step - loss: 0.2011 - accuracy: 0.9215 - val_loss: 0.1442 - val_accuracy: 1.0000\n",
      "Epoch 37/50\n",
      "8/8 [==============================] - 2s 225ms/step - loss: 0.1457 - accuracy: 0.9463 - val_loss: 0.3016 - val_accuracy: 0.9000\n",
      "Epoch 38/50\n",
      "8/8 [==============================] - 2s 217ms/step - loss: 0.1287 - accuracy: 0.9711 - val_loss: 0.1261 - val_accuracy: 1.0000\n",
      "Epoch 39/50\n",
      "8/8 [==============================] - 2s 228ms/step - loss: 0.1241 - accuracy: 0.9545 - val_loss: 0.0825 - val_accuracy: 1.0000\n",
      "Epoch 40/50\n",
      "8/8 [==============================] - 2s 229ms/step - loss: 0.0851 - accuracy: 0.9711 - val_loss: 0.2246 - val_accuracy: 0.9000\n",
      "Epoch 41/50\n",
      "8/8 [==============================] - 2s 248ms/step - loss: 0.1023 - accuracy: 0.9587 - val_loss: 0.0686 - val_accuracy: 1.0000\n",
      "Epoch 42/50\n",
      "8/8 [==============================] - 2s 200ms/step - loss: 0.0848 - accuracy: 0.9711 - val_loss: 0.1979 - val_accuracy: 0.9000\n",
      "Epoch 43/50\n",
      "8/8 [==============================] - 2s 252ms/step - loss: 0.0788 - accuracy: 0.9752 - val_loss: 0.0466 - val_accuracy: 1.0000\n",
      "Epoch 44/50\n",
      "8/8 [==============================] - 2s 205ms/step - loss: 0.0908 - accuracy: 0.9752 - val_loss: 0.0476 - val_accuracy: 1.0000\n",
      "Epoch 45/50\n",
      "8/8 [==============================] - 2s 238ms/step - loss: 0.0675 - accuracy: 0.9752 - val_loss: 0.0341 - val_accuracy: 1.0000\n",
      "Epoch 46/50\n",
      "8/8 [==============================] - 2s 209ms/step - loss: 0.0705 - accuracy: 0.9793 - val_loss: 0.0511 - val_accuracy: 1.0000\n",
      "Epoch 47/50\n",
      "8/8 [==============================] - 2s 221ms/step - loss: 0.0976 - accuracy: 0.9752 - val_loss: 0.0613 - val_accuracy: 1.0000\n",
      "Epoch 48/50\n",
      "8/8 [==============================] - 2s 206ms/step - loss: 0.0857 - accuracy: 0.9793 - val_loss: 0.0502 - val_accuracy: 1.0000\n",
      "Epoch 49/50\n",
      "8/8 [==============================] - 2s 216ms/step - loss: 0.0588 - accuracy: 0.9959 - val_loss: 0.1026 - val_accuracy: 0.9000\n",
      "Epoch 50/50\n",
      "8/8 [==============================] - 2s 209ms/step - loss: 0.0582 - accuracy: 0.9876 - val_loss: 0.0679 - val_accuracy: 1.0000\n"
     ]
    },
    {
     "data": {
      "text/plain": [
       "<tensorflow.python.keras.callbacks.History at 0x2082ed8f508>"
      ]
     },
     "execution_count": 13,
     "metadata": {},
     "output_type": "execute_result"
    }
   ],
   "source": [
    "cnn.fit(x = training_set, validation_data = test_set, epochs = 50)"
   ]
  },
  {
   "cell_type": "code",
   "execution_count": 14,
   "metadata": {},
   "outputs": [
    {
     "name": "stdout",
     "output_type": "stream",
     "text": [
      "negative\n"
     ]
    }
   ],
   "source": [
    "import numpy as np\n",
    "from keras.preprocessing import image\n",
    "\n",
    "test_image = image.load_img('dataset/sample.jpg', target_size=(64, 64))\n",
    "test_image = image.img_to_array(test_image)\n",
    "test_image = np.expand_dims(test_image, axis= 0)\n",
    "\n",
    "result = cnn.predict(test_image)\n",
    "\n",
    "if result[0][0] == 1:\n",
    "    prediction = \"positive\"\n",
    "else:\n",
    "    prediction = \"negative\"\n",
    "    \n",
    "print(prediction)"
   ]
  },
  {
   "cell_type": "code",
   "execution_count": null,
   "metadata": {},
   "outputs": [],
   "source": []
  }
 ],
 "metadata": {
  "kernelspec": {
   "display_name": "Python 3",
   "language": "python",
   "name": "python3"
  },
  "language_info": {
   "codemirror_mode": {
    "name": "ipython",
    "version": 3
   },
   "file_extension": ".py",
   "mimetype": "text/x-python",
   "name": "python",
   "nbconvert_exporter": "python",
   "pygments_lexer": "ipython3",
   "version": "3.7.6"
  }
 },
 "nbformat": 4,
 "nbformat_minor": 4
}
