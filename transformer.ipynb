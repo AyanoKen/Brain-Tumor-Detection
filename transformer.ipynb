{
 "cells": [
  {
   "cell_type": "code",
   "execution_count": 1,
   "metadata": {},
   "outputs": [],
   "source": [
    "%matplotlib inline\n",
    "\n",
    "import glob\n",
    "import cv2\n",
    "from matplotlib import pyplot as plt\n",
    "import os\n",
    "\n",
    "baseDir = r'D:/Important/Projects/Brain Tumor Detection/'"
   ]
  },
  {
   "cell_type": "code",
   "execution_count": 2,
   "metadata": {},
   "outputs": [],
   "source": [
    "os.chdir(baseDir)\n",
    "images = [cv2.imread(file) for file in glob.glob(\"dataset/test/no/*\")]\n",
    "\n",
    "os.chdir(baseDir + \"dataset_transformed/test/no\")\n",
    "\n",
    "i = 1\n",
    "for image in images:\n",
    "    img_colored = cv2.applyColorMap(image, cv2.COLORMAP_JET)\n",
    "    cv2.imwrite(\"no\" + str(i) + \".png\", img_colored)\n",
    "    i += 1"
   ]
  },
  {
   "cell_type": "code",
   "execution_count": 3,
   "metadata": {},
   "outputs": [],
   "source": [
    "os.chdir(baseDir)\n",
    "images = [cv2.imread(file) for file in glob.glob(\"dataset/test/yes/*\")]\n",
    "\n",
    "os.chdir(baseDir + \"dataset_transformed/test/yes\")\n",
    "\n",
    "i = 1\n",
    "for image in images:\n",
    "    img_colored = cv2.applyColorMap(image, cv2.COLORMAP_JET)\n",
    "    cv2.imwrite(\"yes\" + str(i) + \".png\", img_colored)\n",
    "    i += 1"
   ]
  },
  {
   "cell_type": "code",
   "execution_count": 4,
   "metadata": {},
   "outputs": [],
   "source": [
    "os.chdir(baseDir)\n",
    "images = [cv2.imread(file) for file in glob.glob(\"dataset/train/no/*\")]\n",
    "\n",
    "os.chdir(baseDir + \"dataset_transformed/train/no\")\n",
    "\n",
    "i = 1\n",
    "for image in images:\n",
    "    img_colored = cv2.applyColorMap(image, cv2.COLORMAP_JET)\n",
    "    cv2.imwrite(\"no\" + str(i) + \".png\", img_colored)\n",
    "    i += 1"
   ]
  },
  {
   "cell_type": "code",
   "execution_count": 5,
   "metadata": {},
   "outputs": [],
   "source": [
    "os.chdir(baseDir)\n",
    "images = [cv2.imread(file) for file in glob.glob(\"dataset/train/yes/*\")]\n",
    "\n",
    "os.chdir(baseDir + \"dataset_transformed/train/yes\")\n",
    "\n",
    "i = 1\n",
    "for image in images:\n",
    "    img_colored = cv2.applyColorMap(image, cv2.COLORMAP_JET)\n",
    "    cv2.imwrite(\"yes\" + str(i) + \".png\", img_colored)\n",
    "    i += 1"
   ]
  }
 ],
 "metadata": {
  "kernelspec": {
   "display_name": "Python 3",
   "language": "python",
   "name": "python3"
  },
  "language_info": {
   "codemirror_mode": {
    "name": "ipython",
    "version": 3
   },
   "file_extension": ".py",
   "mimetype": "text/x-python",
   "name": "python",
   "nbconvert_exporter": "python",
   "pygments_lexer": "ipython3",
   "version": "3.7.6"
  }
 },
 "nbformat": 4,
 "nbformat_minor": 4
}
